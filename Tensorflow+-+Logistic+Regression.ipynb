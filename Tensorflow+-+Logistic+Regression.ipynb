{
 "cells": [
  {
   "cell_type": "code",
   "execution_count": 3,
   "metadata": {},
   "outputs": [
    {
     "name": "stdout",
     "output_type": "stream",
     "text": [
      "Successfully downloaded train-images-idx3-ubyte.gz 9912422 bytes.\n",
      "Extracting tmp/data/train-images-idx3-ubyte.gz\n",
      "Successfully downloaded train-labels-idx1-ubyte.gz 28881 bytes.\n",
      "Extracting tmp/data/train-labels-idx1-ubyte.gz\n",
      "Successfully downloaded t10k-images-idx3-ubyte.gz 1648877 bytes.\n",
      "Extracting tmp/data/t10k-images-idx3-ubyte.gz\n",
      "Successfully downloaded t10k-labels-idx1-ubyte.gz 4542 bytes.\n",
      "Extracting tmp/data/t10k-labels-idx1-ubyte.gz\n"
     ]
    }
   ],
   "source": [
    "import tensorflow as tf\n",
    "\n",
    "\n",
    "from tensorflow.examples.tutorials.mnist import input_data\n",
    "mnist = input_data.read_data_sets(\"tmp/data/\", one_hot = True)"
   ]
  },
  {
   "cell_type": "code",
   "execution_count": 6,
   "metadata": {},
   "outputs": [],
   "source": [
    "# Parametry modelu\n",
    "\n",
    "learning_rate = 0.01\n",
    "training_epochs = 25\n",
    "batch_size = 100\n",
    "display_step = 1\n",
    "\n",
    "# tf graph input\n",
    "\n",
    "\n",
    "x = tf.placeholder(tf.float32, [None, 784])  # MniSt data- dim 28*28\n",
    "y = tf.placeholder(tf.float32, [None, 10])  # Exaplanatory variable - 10 classes\n",
    "\n",
    "# Set model weights\n",
    "\n",
    "W = tf.Variable(tf.zeros([784, 10]))\n",
    "b = tf.Variable(tf.zeros([10]))\n",
    "\n",
    "\n",
    "# Construct a model\n",
    "\n",
    "pred = tf.nn.softmax(tf.matmul(x, W) + b)\n",
    "\n",
    "# Minimize error using cross entropy\n",
    "cost = tf.reduce_mean(-tf.reduce_sum(y*tf.log(pred), reduction_indices= 1))\n",
    "# Gradient Descent \n",
    "optimizer = tf.train.GradientDescentOptimizer(learning_rate).minimize(cost)\n",
    "\n",
    "init = tf.global_variables_initializer()\n",
    "\n",
    "\n"
   ]
  },
  {
   "cell_type": "code",
   "execution_count": 7,
   "metadata": {},
   "outputs": [
    {
     "name": "stdout",
     "output_type": "stream",
     "text": [
      "Epoch: 0001 cost =  1.183536005\n",
      "Epoch: 0002 cost =  0.665231462\n",
      "Epoch: 0003 cost =  0.552849228\n",
      "Epoch: 0004 cost =  0.498713978\n",
      "Epoch: 0005 cost =  0.465550629\n",
      "Epoch: 0006 cost =  0.442587172\n",
      "Epoch: 0007 cost =  0.425571709\n",
      "Epoch: 0008 cost =  0.412179490\n",
      "Epoch: 0009 cost =  0.401407599\n",
      "Epoch: 0010 cost =  0.392355530\n",
      "Epoch: 0011 cost =  0.384777356\n",
      "Epoch: 0012 cost =  0.378226281\n",
      "Epoch: 0013 cost =  0.372405739\n",
      "Epoch: 0014 cost =  0.367274387\n",
      "Epoch: 0015 cost =  0.362718827\n",
      "Epoch: 0016 cost =  0.358572974\n",
      "Epoch: 0017 cost =  0.354922947\n",
      "Epoch: 0018 cost =  0.351472702\n",
      "Epoch: 0019 cost =  0.348291322\n",
      "Epoch: 0020 cost =  0.345444530\n",
      "Epoch: 0021 cost =  0.342749412\n",
      "Epoch: 0022 cost =  0.340248278\n",
      "Epoch: 0023 cost =  0.337931351\n",
      "Epoch: 0024 cost =  0.335753469\n",
      "Epoch: 0025 cost =  0.333643808\n",
      "Optimatization Finished!\n",
      "Accuracy: 0.890333\n"
     ]
    }
   ],
   "source": [
    "# Start training\n",
    "\n",
    "\n",
    "with tf.Session() as sess:\n",
    "    sess.run(init)\n",
    "    \n",
    "    # Training cycle \n",
    "    for epoch in range(training_epochs):\n",
    "        \n",
    "        avg_cost = 0\n",
    "        total_batch = int(mnist.train.num_examples/batch_size)\n",
    "        # Loop over all batches\n",
    "        \n",
    "        for i in range(total_batch):\n",
    "            batch_xs, batch_ys = mnist.train.next_batch(batch_size)\n",
    "            # Fit training data using batch\n",
    "            \n",
    "            _, c = sess.run([optimizer, cost], feed_dict = {x: batch_xs, \n",
    "                                                           y: batch_ys})\n",
    "            # Compute average loss\n",
    "            \n",
    "            avg_cost += c / total_batch\n",
    "            \n",
    "        if (epoch +1) % display_step == 0:\n",
    "            print(\"Epoch:\", '%04d' % (epoch +1), \"cost = \", \"{:.9f}\".format(avg_cost))\n",
    "    \n",
    "    print(\"Optimatization Finished!\")\n",
    "    \n",
    "    correct_prediction = tf.equal(tf.argmax(pred, 1), tf.argmax(y, 1))\n",
    "    # Calculate accuracy on 3000 examples\n",
    "    \n",
    "    accuracy = tf.reduce_mean(tf.cast(correct_prediction, tf.float32))\n",
    "    \n",
    "    print(\"Accuracy:\", accuracy.eval({x: mnist.test.images[:3000], y:mnist.test.labels[:3000]}))\n",
    "    \n",
    "    "
   ]
  },
  {
   "cell_type": "code",
   "execution_count": null,
   "metadata": {
    "collapsed": true
   },
   "outputs": [],
   "source": []
  }
 ],
 "metadata": {
  "kernelspec": {
   "display_name": "Python 3",
   "language": "python",
   "name": "python3"
  },
  "language_info": {
   "codemirror_mode": {
    "name": "ipython",
    "version": 3
   },
   "file_extension": ".py",
   "mimetype": "text/x-python",
   "name": "python",
   "nbconvert_exporter": "python",
   "pygments_lexer": "ipython3",
   "version": "3.6.1"
  }
 },
 "nbformat": 4,
 "nbformat_minor": 2
}
