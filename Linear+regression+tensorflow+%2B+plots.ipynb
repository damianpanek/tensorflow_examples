{
 "cells": [
  {
   "cell_type": "code",
   "execution_count": 2,
   "metadata": {},
   "outputs": [],
   "source": [
    "# Linear regression in Tensorflow\n",
    "\n",
    "%matplotlib inline\n",
    "import matplotlib.pyplot as plt\n",
    "\n",
    "import numpy as np\n",
    "import tensorflow as tf\n",
    "\n",
    "\n",
    "# Parametru \n",
    "\n",
    "learning_rate = 0.01 \n",
    "training_epochs = 200\n",
    "display_step = 10\n",
    "\n"
   ]
  },
  {
   "cell_type": "code",
   "execution_count": 3,
   "metadata": {
    "collapsed": true
   },
   "outputs": [],
   "source": [
    "# Generowanie zestawu danych\n",
    "\n",
    "train_X = np.linspace(-1, 1, 101)\n",
    "train_Y = train_X * 2 + np.random.randn(*train_X.shape) * 0.3+ 2 * np.random.randn() * train_X.shape[0]"
   ]
  },
  {
   "cell_type": "code",
   "execution_count": 14,
   "metadata": {},
   "outputs": [],
   "source": [
    "x=  tf.placeholder(tf.float32, shape = (None, ), name= \"x\")\n",
    "y= tf.placeholder(tf.float32, shape = (None,), name = \"y\")\n",
    "\n",
    "\n",
    "W = tf.Variable(np.random.randn(), name = \"Weight\")\n",
    "b = tf.Variable(np.random.randn(), name =  \"Bias\")"
   ]
  },
  {
   "cell_type": "code",
   "execution_count": 17,
   "metadata": {},
   "outputs": [],
   "source": [
    "# Wywołanie wszystkich zmiennnych\n",
    "y_pred = tf.add(tf.multiply(W, x), b)\n",
    "init = tf.global_variables_initializer()"
   ]
  },
  {
   "cell_type": "code",
   "execution_count": 18,
   "metadata": {},
   "outputs": [],
   "source": [
    "# Funkcja kosztu - linear regression\n",
    "\n",
    "# Definicja funkcji kosztu\n",
    "cost = tf.reduce_mean(tf.square(y_pred -y))\n",
    "\n",
    "\n",
    "# Funkcja minimalizująca funkcję kosztu \n",
    "\n",
    "optimizer = tf.train.GradientDescentOptimizer(learning_rate = 0.1)\n",
    "\n",
    "\n",
    "# minimalizacja funkcji kosztu z wykorzystaniem optimizera\n",
    "train_op = optimizer.minimize(cost)\n",
    "\n",
    "# Log kontrolujacy progres\n",
    "\n",
    "\n",
    "log_str = \"Epoch: {:03d} cost = {:.10f} W={:.9f} b={:.9f}\"\n",
    "\n"
   ]
  },
  {
   "cell_type": "code",
   "execution_count": 19,
   "metadata": {},
   "outputs": [
    {
     "name": "stdout",
     "output_type": "stream",
     "text": [
      "Epoch: 001 cost = 5175.0258789062 W=0.299757630 b=-14.417451859\n",
      "Epoch: 011 cost = 59.9946632385 W=1.159658074 b=-65.782218933\n",
      "Epoch: 021 cost = 0.8229535818 W=1.584871292 b=-71.297470093\n",
      "Epoch: 031 cost = 0.0920019820 W=1.795135975 b=-71.889663696\n",
      "Epoch: 041 cost = 0.0716545656 W=1.899110079 b=-71.953254700\n",
      "Epoch: 051 cost = 0.0685050562 W=1.950524449 b=-71.960083008\n",
      "Epoch: 061 cost = 0.0677560046 W=1.975948334 b=-71.960815430\n",
      "Epoch: 071 cost = 0.0675730407 W=1.988520384 b=-71.960884094\n",
      "Epoch: 081 cost = 0.0675284714 W=1.994737148 b=-71.960884094\n",
      "Epoch: 091 cost = 0.0675173178 W=1.997811198 b=-71.960884094\n",
      "Epoch: 101 cost = 0.0675147548 W=1.999331355 b=-71.960884094\n",
      "Epoch: 111 cost = 0.0675140768 W=2.000082970 b=-71.960884094\n",
      "Epoch: 121 cost = 0.0675138608 W=2.000454903 b=-71.960884094\n",
      "Epoch: 131 cost = 0.0675139129 W=2.000638723 b=-71.960884094\n",
      "Epoch: 141 cost = 0.0675137863 W=2.000729322 b=-71.960884094\n",
      "Epoch: 151 cost = 0.0675137639 W=2.000774622 b=-71.960884094\n",
      "Epoch: 161 cost = 0.0675137937 W=2.000797033 b=-71.960884094\n",
      "Epoch: 171 cost = 0.0675138161 W=2.000807524 b=-71.960884094\n",
      "Epoch: 181 cost = 0.0675138533 W=2.000813961 b=-71.960884094\n",
      "Epoch: 191 cost = 0.0675137714 W=2.000815630 b=-71.960884094\n"
     ]
    }
   ],
   "source": [
    "with tf.Session() as sess:\n",
    "    sess.run(init)\n",
    "    \n",
    "    pred_Y_init = sess.run(y_pred, {x: train_X})\n",
    "    \n",
    "    for epoch in range(training_epochs):\n",
    "        \n",
    "        cost_t, W_t, b_t, _ = sess.run([cost, W, b, train_op], \n",
    "                                      feed_dict = {x: train_X, y:train_Y})\n",
    "        \n",
    "        if epoch % display_step == 0:\n",
    "            print(log_str.format(epoch +1, cost_t, W_t, b_t))\n",
    "            \n",
    "    pred_Y_final = sess.run(y_pred, {x: train_X})"
   ]
  },
  {
   "cell_type": "code",
   "execution_count": 20,
   "metadata": {},
   "outputs": [
    {
     "data": {
      "image/png": "[encoded data removed]",
      "text/plain": [
       "<matplotlib.figure.Figure at 0x21700ffbeb8>"
      ]
     },
     "metadata": {},
     "output_type": "display_data"
    }
   ],
   "source": [
    "plt.rc('figure', figsize = (12, 6))\n",
    "plt.scatter(train_X, train_Y)\n",
    "plt.show()"
   ]
  },
  {
   "cell_type": "code",
   "execution_count": 21,
   "metadata": {},
   "outputs": [
    {
     "data": {
      "image/png": "[encoded data removed]",
      "text/plain": [
       "<matplotlib.figure.Figure at 0x217010e2860>"
      ]
     },
     "metadata": {},
     "output_type": "display_data"
    }
   ],
   "source": [
    "plt.rc('figure', figsize = (12,6))\n",
    "fig = plt.figure(1)\n",
    "plt.scatter(train_X, train_Y)\n",
    "plt.plot(train_X, pred_Y_init, label = 'Initial fitted line')\n",
    "plt.legend(loc = 0)\n",
    "plt.show()"
   ]
  },
  {
   "cell_type": "code",
   "execution_count": null,
   "metadata": {
    "collapsed": true
   },
   "outputs": [],
   "source": []
  }
 ],
 "metadata": {
  "kernelspec": {
   "display_name": "Python 3",
   "language": "python",
   "name": "python3"
  },
  "language_info": {
   "codemirror_mode": {
    "name": "ipython",
    "version": 3
   },
   "file_extension": ".py",
   "mimetype": "text/x-python",
   "name": "python",
   "nbconvert_exporter": "python",
   "pygments_lexer": "ipython3",
   "version": "3.6.1"
  }
 },
 "nbformat": 4,
 "nbformat_minor": 2
}
