{
 "cells": [
  {
   "cell_type": "code",
   "execution_count": 1,
   "metadata": {},
   "outputs": [
    {
     "name": "stdout",
     "output_type": "stream",
     "text": [
      "Extracting /tmp/data/train-images-idx3-ubyte.gz\n",
      "Extracting /tmp/data/train-labels-idx1-ubyte.gz\n",
      "Extracting /tmp/data/t10k-images-idx3-ubyte.gz\n",
      "Extracting /tmp/data/t10k-labels-idx1-ubyte.gz\n"
     ]
    }
   ],
   "source": [
    "# Neural network \n",
    "\n",
    "from __future__ import print_function\n",
    "\n",
    "# IMPORT MNIST data\n",
    "\n",
    "from tensorflow.examples.tutorials.mnist import input_data\n",
    "mnist = input_data.read_data_sets(\"/tmp/data/\", one_hot = False)\n",
    "\n",
    "import tensorflow as tf\n",
    "import matplotlib.pyplot as plt\n",
    "import numpy as np\n",
    "\n",
    "\n",
    "\n"
   ]
  },
  {
   "cell_type": "code",
   "execution_count": 2,
   "metadata": {
    "collapsed": true
   },
   "outputs": [],
   "source": [
    "# Parameters\n",
    "\n",
    "\n",
    "learning_rate = 0.1\n",
    "num_steps = 1000\n",
    "batch_size = 128\n",
    "display_step = 100\n",
    "\n",
    "# Network parameters\n",
    "\n",
    "n_hidden_1 = 256\n",
    "n_hidden_2 = 256\n",
    "num_input = 784\n",
    "num_classes = 10\n"
   ]
  },
  {
   "cell_type": "code",
   "execution_count": 4,
   "metadata": {},
   "outputs": [],
   "source": [
    "# Define the input for training\n",
    "\n",
    "input_fn = tf.estimator.inputs.numpy_input_fn(\n",
    "    x =  {'images': mnist.train.images}, y = mnist.train.labels, \n",
    "    batch_size = batch_size, num_epochs = None, shuffle = True)\n"
   ]
  },
  {
   "cell_type": "code",
   "execution_count": 5,
   "metadata": {
    "collapsed": true
   },
   "outputs": [],
   "source": [
    "# Define the neural network\n",
    "\n",
    "def neural_net(x_dict):\n",
    "    \n",
    "    \n",
    "    x = x_dict['images']\n",
    "    \n",
    "    layer_1 =  tf.layers.dense(x, n_hidden_1)\n",
    "    \n",
    "    layer_2 = tf.layers.dense(layer_1, n_hidden_2)\n",
    "    \n",
    "    out_layer = tf.layers.dense(layer_2, num_classes)\n",
    "    \n",
    "    return out_layer\n"
   ]
  },
  {
   "cell_type": "code",
   "execution_count": 6,
   "metadata": {
    "collapsed": true
   },
   "outputs": [],
   "source": [
    "# Define the model function\n",
    "\n",
    "def model_fn(features, labels, mode):\n",
    "    \n",
    "    \n",
    "    logits = neural_net(features)\n",
    "    \n",
    "    # Predictions \n",
    "    pred_classes = tf.argmax(logits, axis = 1)\n",
    "    pred_probas  = tf.nn.softmax(logits)\n",
    "    \n",
    "    # Jezeli prediction mode, wczesniej zwroc wynik \n",
    "    \n",
    "    if mode == tf.estimator.ModeKeys.PREDICT:\n",
    "        return tf.estimator.EstimatorSpec(mode, predictions = pred_classes)\n",
    "    \n",
    "    \n",
    "    # Zdefiniowanie loss i parameters\n",
    "    \n",
    "    loss_op = tf.reduce_mean(tf.nn.sparse_softmax_cross_entropy_with_logits(\n",
    "        logits = logits, labels = tf.cast(labels, dtype = tf.int32)))\n",
    "    optimizer =  tf.train.GradientDescentOptimizer(learning_rate = learning_rate)\n",
    "    train_op = optimizer.minimize(loss_op, global_step = tf.train.get_global_step())\n",
    "    \n",
    "    \n",
    "    # Obliczenie celnosci modelu\n",
    "    \n",
    "    acc_op = tf.metrics.accuracy(labels = labels, predictions = pred_classes)\n",
    "    \n",
    "    # TF Estimators wymaga EstimatorSpec, that specify \n",
    "    # roznica ops for training , evaluating\n",
    "    \n",
    "    \n",
    "    estim_specs = tf.estimator.EstimatorSpec(\n",
    "    mode = mode, \n",
    "    predictions = pred_classes, \n",
    "    loss = loss_op, \n",
    "    train_op = train_op, \n",
    "    eval_metric_ops = {'accuracy': acc_op})\n",
    "    \n",
    "    return estim_specs"
   ]
  },
  {
   "cell_type": "code",
   "execution_count": 7,
   "metadata": {},
   "outputs": [
    {
     "name": "stdout",
     "output_type": "stream",
     "text": [
      "WARNING:tensorflow:Using temporary folder as model directory: C:\\Users\\Damiano\\AppData\\Local\\Temp\\tmp26xrhgzb\n",
      "INFO:tensorflow:Using default config.\n",
      "INFO:tensorflow:Using config: {}\n"
     ]
    }
   ],
   "source": [
    "# Budowanie estymatora\n",
    "\n",
    "model = tf.estimator.Estimator(model_fn)"
   ]
  },
  {
   "cell_type": "code",
   "execution_count": 8,
   "metadata": {},
   "outputs": [
    {
     "name": "stdout",
     "output_type": "stream",
     "text": [
      "INFO:tensorflow:Create CheckpointSaverHook.\n",
      "INFO:tensorflow:Saving checkpoints for 1 into C:\\Users\\Damiano\\AppData\\Local\\Temp\\tmp26xrhgzb\\model.ckpt.\n",
      "INFO:tensorflow:loss = 2.32879, step = 1\n",
      "INFO:tensorflow:global_step/sec: 208.329\n",
      "INFO:tensorflow:loss = 0.382426, step = 101 (0.481 sec)\n",
      "INFO:tensorflow:global_step/sec: 214.115\n",
      "INFO:tensorflow:loss = 0.284116, step = 201 (0.467 sec)\n",
      "INFO:tensorflow:global_step/sec: 213.198\n",
      "INFO:tensorflow:loss = 0.265223, step = 301 (0.470 sec)\n",
      "INFO:tensorflow:global_step/sec: 215.029\n",
      "INFO:tensorflow:loss = 0.385491, step = 401 (0.465 sec)\n",
      "INFO:tensorflow:global_step/sec: 213.651\n",
      "INFO:tensorflow:loss = 0.356158, step = 501 (0.467 sec)\n",
      "INFO:tensorflow:global_step/sec: 214.109\n",
      "INFO:tensorflow:loss = 0.345334, step = 601 (0.467 sec)\n",
      "INFO:tensorflow:global_step/sec: 213.648\n",
      "INFO:tensorflow:loss = 0.278111, step = 701 (0.468 sec)\n",
      "INFO:tensorflow:global_step/sec: 215.035\n",
      "INFO:tensorflow:loss = 0.411024, step = 801 (0.466 sec)\n",
      "INFO:tensorflow:global_step/sec: 213.647\n",
      "INFO:tensorflow:loss = 0.346385, step = 901 (0.468 sec)\n",
      "INFO:tensorflow:Saving checkpoints for 1000 into C:\\Users\\Damiano\\AppData\\Local\\Temp\\tmp26xrhgzb\\model.ckpt.\n",
      "INFO:tensorflow:Loss for final step: 0.314987.\n"
     ]
    },
    {
     "data": {
      "text/plain": [
       "<tensorflow.python.estimator.estimator.Estimator at 0x25da29c4a90>"
      ]
     },
     "execution_count": 8,
     "metadata": {},
     "output_type": "execute_result"
    }
   ],
   "source": [
    "model.train(input_fn, steps = num_steps)"
   ]
  },
  {
   "cell_type": "code",
   "execution_count": 11,
   "metadata": {},
   "outputs": [
    {
     "name": "stdout",
     "output_type": "stream",
     "text": [
      "INFO:tensorflow:Restoring parameters from C:\\Users\\Damiano\\AppData\\Local\\Temp\\tmp26xrhgzb\\model.ckpt-1000\n"
     ]
    },
    {
     "data": {
      "image/png": "[encoded data removed]",
      "text/plain": [
       "<matplotlib.figure.Figure at 0x25da4ad8ba8>"
      ]
     },
     "metadata": {},
     "output_type": "display_data"
    },
    {
     "name": "stdout",
     "output_type": "stream",
     "text": [
      "Model predictions 7\n"
     ]
    },
    {
     "data": {
      "image/png": "[encoded data removed]",
      "text/plain": [
       "<matplotlib.figure.Figure at 0x25da4ef3748>"
      ]
     },
     "metadata": {},
     "output_type": "display_data"
    },
    {
     "name": "stdout",
     "output_type": "stream",
     "text": [
      "Model predictions 2\n"
     ]
    },
    {
     "data": {
      "image/png": "[encoded data removed]",
      "text/plain": [
       "<matplotlib.figure.Figure at 0x25da4f4d630>"
      ]
     },
     "metadata": {},
     "output_type": "display_data"
    },
    {
     "name": "stdout",
     "output_type": "stream",
     "text": [
      "Model predictions 1\n"
     ]
    },
    {
     "data": {
      "image/png": "[encoded data removed]",
      "text/plain": [
       "<matplotlib.figure.Figure at 0x25da4ed39b0>"
      ]
     },
     "metadata": {},
     "output_type": "display_data"
    },
    {
     "name": "stdout",
     "output_type": "stream",
     "text": [
      "Model predictions 0\n"
     ]
    },
    {
     "data": {
      "image/png": "[encoded data removed]",
      "text/plain": [
       "<matplotlib.figure.Figure at 0x25da4963e48>"
      ]
     },
     "metadata": {},
     "output_type": "display_data"
    },
    {
     "name": "stdout",
     "output_type": "stream",
     "text": [
      "Model predictions 4\n"
     ]
    },
    {
     "data": {
      "image/png": "[encoded data removed]",
      "text/plain": [
       "<matplotlib.figure.Figure at 0x25da3144978>"
      ]
     },
     "metadata": {},
     "output_type": "display_data"
    },
    {
     "name": "stdout",
     "output_type": "stream",
     "text": [
      "Model predictions 1\n"
     ]
    },
    {
     "data": {
      "image/png": "[encoded data removed]",
      "text/plain": [
       "<matplotlib.figure.Figure at 0x25da2bd3860>"
      ]
     },
     "metadata": {},
     "output_type": "display_data"
    },
    {
     "name": "stdout",
     "output_type": "stream",
     "text": [
      "Model predictions 4\n"
     ]
    },
    {
     "data": {
      "image/png": "[encoded data removed]",
      "text/plain": [
       "<matplotlib.figure.Figure at 0x25da2a41588>"
      ]
     },
     "metadata": {},
     "output_type": "display_data"
    },
    {
     "name": "stdout",
     "output_type": "stream",
     "text": [
      "Model predictions 9\n"
     ]
    },
    {
     "data": {
      "image/png": "[encoded data removed]",
      "text/plain": [
       "<matplotlib.figure.Figure at 0x25da2cf77f0>"
      ]
     },
     "metadata": {},
     "output_type": "display_data"
    },
    {
     "name": "stdout",
     "output_type": "stream",
     "text": [
      "Model predictions 6\n"
     ]
    },
    {
     "data": {
      "image/png": "[encoded data removed]",
      "text/plain": [
       "<matplotlib.figure.Figure at 0x25da2c63b70>"
      ]
     },
     "metadata": {},
     "output_type": "display_data"
    },
    {
     "name": "stdout",
     "output_type": "stream",
     "text": [
      "Model predictions 9\n"
     ]
    }
   ],
   "source": [
    "# Predict single images\n",
    "\n",
    "n_images = 10\n",
    "# Get images from test set\n",
    "\n",
    "\n",
    "test_images =  mnist.test.images[:n_images]\n",
    "\n",
    "# Przygotowanie input data\n",
    "\n",
    "input_fn = tf.estimator.inputs.numpy_input_fn(\n",
    "x= {'images':test_images}, shuffle = False)\n",
    "\n",
    "preds = list(model.predict(input_fn))\n",
    "\n",
    "# Wyswietlenie rezultatow\n",
    "\n",
    "for i in range(n_images):\n",
    "    \n",
    "    plt.imshow(np.reshape(test_images[i], [28, 28]), cmap = 'gray')\n",
    "    plt.show()\n",
    "    print(\"Model predictions\", preds[i])\n",
    "\n"
   ]
  },
  {
   "cell_type": "code",
   "execution_count": null,
   "metadata": {
    "collapsed": true
   },
   "outputs": [],
   "source": []
  }
 ],
 "metadata": {
  "kernelspec": {
   "display_name": "Python 3",
   "language": "python",
   "name": "python3"
  },
  "language_info": {
   "codemirror_mode": {
    "name": "ipython",
    "version": 3
   },
   "file_extension": ".py",
   "mimetype": "text/x-python",
   "name": "python",
   "nbconvert_exporter": "python",
   "pygments_lexer": "ipython3",
   "version": "3.6.1"
  }
 },
 "nbformat": 4,
 "nbformat_minor": 2
}
